{
 "cells": [
  {
   "cell_type": "markdown",
   "metadata": {},
   "source": [
    "# Astrogator Object Model Walkthrough in Python API#"
   ]
  },
  {
   "cell_type": "markdown",
   "metadata": {},
   "source": [
    "## Connect to STK ##"
   ]
  },
  {
   "cell_type": "code",
   "execution_count": 188,
   "metadata": {},
   "outputs": [],
   "source": [
    "# Start new instance of STK using the new API\n",
    "from agi.stk12.stkdesktop import STKDesktop\n",
    "from agi.stk12.stkobjects import *"
   ]
  },
  {
   "cell_type": "code",
   "execution_count": 189,
   "metadata": {},
   "outputs": [],
   "source": [
    "# Create a new instance of STK, grab the root, create a new scenario\n",
    "stk = STKDesktop.StartApplication(visible=True) #using optional visible argument\n",
    "root = stk.Root\n",
    "root.NewScenario('HohmannTransferPythonAPI');"
   ]
  },
  {
   "cell_type": "code",
   "execution_count": 190,
   "metadata": {},
   "outputs": [],
   "source": [
    "# Grab scenario handles\n",
    "sc = root.CurrentScenario"
   ]
  },
  {
   "cell_type": "markdown",
   "metadata": {},
   "source": [
    "## Create an Astrogator Satellite ##"
   ]
  },
  {
   "cell_type": "code",
   "execution_count": 191,
   "metadata": {},
   "outputs": [],
   "source": [
    "# Create a new satellite\n",
    "sat = sc.Children.New(AgESTKObjectType.eSatellite, 'AstrogatorSat')"
   ]
  },
  {
   "cell_type": "code",
   "execution_count": 192,
   "metadata": {},
   "outputs": [],
   "source": [
    "# Set the propagator to ePropagatorAstrogator\n",
    "sat.SetPropagatorType(AgEVePropagatorType.ePropagatorAstrogator)\n",
    "ASTG = sat.Propagator"
   ]
  },
  {
   "cell_type": "code",
   "execution_count": 193,
   "metadata": {},
   "outputs": [
    {
     "data": {
      "text/plain": [
       "agi.stk12.stkobjects.astrogator.AgVAMCSSegmentCollection"
      ]
     },
     "execution_count": 193,
     "metadata": {},
     "output_type": "execute_result"
    }
   ],
   "source": [
    "# Get a handle to the MCS\n",
    "MCS = ASTG.MainSequence\n",
    "type(MCS)"
   ]
  },
  {
   "cell_type": "markdown",
   "metadata": {},
   "source": [
    "## Build the MCS ## "
   ]
  },
  {
   "cell_type": "code",
   "execution_count": 194,
   "metadata": {},
   "outputs": [
    {
     "data": {
      "text/plain": [
       "agi.stk12.stkobjects.astrogator.AgVAMCSTargetSequence"
      ]
     },
     "execution_count": 194,
     "metadata": {},
     "output_type": "execute_result"
    }
   ],
   "source": [
    "ts1 = MCS.Insert(AgEVASegmentType.eVASegmentTypeTargetSequence, 'TargetApo', '-')\n",
    "type(ts1)"
   ]
  },
  {
   "cell_type": "code",
   "execution_count": 195,
   "metadata": {},
   "outputs": [
    {
     "data": {
      "text/plain": [
       "agi.stk12.stkobjects.astrogator.AgVAMCSManeuver"
      ]
     },
     "execution_count": 195,
     "metadata": {},
     "output_type": "execute_result"
    }
   ],
   "source": [
    "dV1 = ts1.Segments.Insert(2,'dV1','-')\n",
    "type(dV1)"
   ]
  },
  {
   "cell_type": "code",
   "execution_count": 196,
   "metadata": {},
   "outputs": [
    {
     "data": {
      "text/plain": [
       "agi.stk12.stkobjects.astrogator.AgVAAttitudeControlImpulsiveThrustVector"
      ]
     },
     "execution_count": 196,
     "metadata": {},
     "output_type": "execute_result"
    }
   ],
   "source": [
    "dV1.Maneuver.SetAttitudeControlType(AgEVAAttitudeControl.eVAAttitudeControlThrustVector)\n",
    "attCon = dV1.Maneuver.AttitudeControl\n",
    "type(attCon)"
   ]
  },
  {
   "cell_type": "code",
   "execution_count": 197,
   "metadata": {},
   "outputs": [],
   "source": [
    "attCon.AssignCartesian(1,0,0);"
   ]
  },
  {
   "cell_type": "code",
   "execution_count": 198,
   "metadata": {},
   "outputs": [],
   "source": [
    "prop2 = ts1.Segments.Insert(AgEVASegmentType.eVASegmentTypePropagate,'PropToApo','-')"
   ]
  },
  {
   "cell_type": "code",
   "execution_count": 199,
   "metadata": {},
   "outputs": [
    {
     "data": {
      "text/plain": [
       "<agi.stk12.stkobjects.astrogator.AgVAStoppingConditionElement at 0x246de406820>"
      ]
     },
     "execution_count": 199,
     "metadata": {},
     "output_type": "execute_result"
    }
   ],
   "source": [
    "prop2.StoppingConditions.Add('Apoapsis')"
   ]
  },
  {
   "cell_type": "code",
   "execution_count": 200,
   "metadata": {},
   "outputs": [],
   "source": [
    "ts2 = MCS.Insert(AgEVASegmentType.eVASegmentTypeTargetSequence, 'TargetCircularization', '-')"
   ]
  },
  {
   "cell_type": "code",
   "execution_count": 201,
   "metadata": {},
   "outputs": [
    {
     "data": {
      "text/plain": [
       "<agi.stk12.stkobjects.astrogator.AgVAMCSSegmentProperties at 0x246dd928280>"
      ]
     },
     "execution_count": 201,
     "metadata": {},
     "output_type": "execute_result"
    }
   ],
   "source": [
    "dV2 = ts2.Segments.InsertCopy(dV1, '-')\n",
    "dV2.Properties"
   ]
  },
  {
   "cell_type": "code",
   "execution_count": 202,
   "metadata": {},
   "outputs": [],
   "source": [
    "prop3 = ts2.Segments.Insert(AgEVASegmentType.eVASegmentTypePropagate, 'Prop1Day', '-')"
   ]
  },
  {
   "cell_type": "code",
   "execution_count": 203,
   "metadata": {},
   "outputs": [
    {
     "name": "stdout",
     "output_type": "stream",
     "text": [
      "<class 'agi.stk12.stkobjects.astrogator.AgVAStoppingConditionElement'>\n"
     ]
    }
   ],
   "source": [
    "scDura = prop3.StoppingConditions.Item('Duration')\n",
    "print(type(scDura))\n",
    "\n",
    "scDura.Properties.Trip = 12345"
   ]
  },
  {
   "cell_type": "markdown",
   "metadata": {},
   "source": [
    "## Configure the Target Sequences ## "
   ]
  },
  {
   "cell_type": "code",
   "execution_count": 204,
   "metadata": {},
   "outputs": [],
   "source": [
    "# first target sequence\n",
    "\n",
    "dV1.EnableControlParameter(AgEVAControlManeuver.eVAControlManeuverImpulsiveCartesianX)\n",
    "\n",
    "dc1 = ts1.Profiles[\"Differential Corrector\"] \n",
    "dc1Control = dc1.ControlParameters[0]\n",
    "dc1Control.Enable = True\n",
    "dc1Control.Perturbation = 0.01\n",
    "dc1Control.MaxStep = 0.1\n",
    "\n",
    "# Add results\n",
    "prop2.Results.Add('R Mag')\n",
    "dc1Results = dc1.Results[0]\n",
    "dc1Results.Enable = True\n",
    "dc1Results.DesiredValue = 42164\n",
    "\n",
    "\n",
    "\n"
   ]
  },
  {
   "cell_type": "code",
   "execution_count": 205,
   "metadata": {},
   "outputs": [],
   "source": [
    "# second target sequence\n",
    "\n",
    "# controls\n",
    "dV2.EnableControlParameter(AgEVAControlManeuver.eVAControlManeuverImpulsiveCartesianX)\n",
    "dV2.EnableControlParameter(AgEVAControlManeuver.eVAControlManeuverImpulsiveCartesianY)\n",
    "\n",
    "dc2 = ts2.Profiles[\"Differential Corrector\"] \n",
    "dc2Control0 = dc2.ControlParameters[0]\n",
    "dc2Control0.Enable = True\n",
    "dc2Control0.Perturbation = 0.01\n",
    "dc2Control0.MaxStep = 0.1\n",
    "\n",
    "dc2Control1 = dc2.ControlParameters[1]\n",
    "dc2Control1.Enable = True\n",
    "dc2Control1.Perturbation = 0.01\n",
    "dc2Control1.MaxStep = 0.1\n",
    "\n",
    "\n",
    "# Add results\n",
    "prop3.Results.Add('Eccentricity')\n",
    "dc2Results0 = dc2.Results[0]\n",
    "dc2Results0.Enable = True\n",
    "dc2Results0.DesiredValue = 0.0\n",
    "\n",
    "prop3.Results.Add('Inclination')\n",
    "dc2Results1 = dc2.Results[1]\n",
    "dc2Results1.Enable = True\n",
    "dc2Results1.DesiredValue = 0.0\n",
    "\n",
    "\n"
   ]
  },
  {
   "cell_type": "code",
   "execution_count": 206,
   "metadata": {},
   "outputs": [],
   "source": [
    "# Set the Target Profiles Action to Run active profiles \n",
    "ts1.Action = AgEVATargetSeqAction.eVATargetSeqActionRunActiveProfiles\n",
    "ts2.Action = AgEVATargetSeqAction.eVATargetSeqActionRunActiveProfiles"
   ]
  },
  {
   "cell_type": "markdown",
   "metadata": {},
   "source": [
    "## Run the MCS ##"
   ]
  },
  {
   "cell_type": "code",
   "execution_count": 207,
   "metadata": {},
   "outputs": [],
   "source": [
    "ASTG.RunMCS()"
   ]
  },
  {
   "cell_type": "code",
   "execution_count": 208,
   "metadata": {},
   "outputs": [
    {
     "data": {
      "text/plain": [
       "agi.stk12.stkobjects.astrogator.AgVACalcObjectCollection"
      ]
     },
     "execution_count": 208,
     "metadata": {},
     "output_type": "execute_result"
    }
   ],
   "source": [
    "type(dV1.Results)"
   ]
  },
  {
   "cell_type": "code",
   "execution_count": null,
   "metadata": {},
   "outputs": [],
   "source": []
  }
 ],
 "metadata": {
  "kernelspec": {
   "display_name": "Python 3 (ipykernel)",
   "language": "python",
   "name": "python3"
  },
  "language_info": {
   "codemirror_mode": {
    "name": "ipython",
    "version": 3
   },
   "file_extension": ".py",
   "mimetype": "text/x-python",
   "name": "python",
   "nbconvert_exporter": "python",
   "pygments_lexer": "ipython3",
   "version": "3.9.7"
  }
 },
 "nbformat": 4,
 "nbformat_minor": 2
}
